{
 "cells": [
  {
   "cell_type": "markdown",
   "id": "26d37dc8",
   "metadata": {},
   "source": [
    "# Linear Regression\n",
    "\n",
    "Add cells for your answers as needed after each question.\n",
    "\n",
    "1. Create a sample dataset $\\{ (x^{(i)},y^{(i)}) \\}$  of 1000 examples where \n",
    "    * $x$ and $y$ are approximately linearly dependent. You may pick the parameters $w,b$ as you like.\n",
    "    * $y - (w x+b)$ is normal distributed. \n",
    "    \n",
    "Plot $x$ vs $y$ and histogram $y - (w x+b)$.\n",
    "   "
   ]
  },
  {
   "cell_type": "markdown",
   "id": "08f62a1b",
   "metadata": {},
   "source": [
    "2. Create functions `model_loop(x,w,b)` and `model_np(x,w,b)` that compute $y=wx+b$, the first using explicit loops, the second computing using numpy and no loops. Illustrate that the two functions create identical output. Use numpy version for the remainder of the lab."
   ]
  },
  {
   "cell_type": "markdown",
   "id": "ed1db3e0",
   "metadata": {},
   "source": [
    "3. Plot $x$ vs $y$ and compare to $x$ vs. $wx+b$ for the parameters from exercise 1."
   ]
  },
  {
   "cell_type": "markdown",
   "id": "11d3422e",
   "metadata": {},
   "source": [
    "4. Create a function `cost(x,y,w,b)` that computes the mean square error between model prediction and data. Use numpy expressions and do not do any explicit loops in python. Make 2 plots illusrating the parabolic shape of the cost function:\n",
    "   * Plot the cost vs $w$ for the dataset, holding $b$ constant. \n",
    "   * Plot the cost vs $b$ for the dataset, holding $w$ constant. \n"
   ]
  },
  {
   "cell_type": "markdown",
   "id": "3bcb2a32",
   "metadata": {},
   "source": [
    "5. Create a function `dj_dw, dj_db = gradient(x, y, w, b)` that computes the gradient wrt $w$ and $b$ on a dataset. Use numpy expressions and do not do any explicit loops in python. Make 2 plots that illustrates that the gradient is 0 at the optimal values of $w$ and $b$ by:\n",
    "   * Ploting the gradient vs $w$ for the dataset, holding $b$ constant. \n",
    "   * Ploting the gradient vs $b$ for the dataset, holding $w$ constant. "
   ]
  },
  {
   "cell_type": "markdown",
   "id": "65ea8059",
   "metadata": {},
   "source": [
    "6. Use the following `gradient_descent` function to \"fit\" a line to the data.  Make sure you do not start at the optimal values from exercise 1. You may have to try different values of `alpha`. "
   ]
  },
  {
   "cell_type": "code",
   "execution_count": 1,
   "id": "32dc7c80",
   "metadata": {},
   "outputs": [],
   "source": [
    "def gradient_descent(x, y, w_in, b_in, alpha, num_iters, cost, gradient): \n",
    "    w = copy.deepcopy(w_in) \n",
    "    \n",
    "    J_history = []\n",
    "    p_history = []\n",
    "\n",
    "    b = b_in\n",
    "    w = w_in\n",
    "    \n",
    "    for i in range(num_iters):\n",
    "        dj_dw, dj_db = gradient(x, y, w , b)     \n",
    "\n",
    "        b = b - alpha * dj_db                            \n",
    "        w = w - alpha * dj_dw                            \n",
    "\n",
    "        if i<100000:    \n",
    "            J_history.append( cost(x, y, w , b))\n",
    "            p_history.append([w,b])\n",
    "            \n",
    "        if i% math.ceil(num_iters/10) == 0:\n",
    "            print(f\"Iteration {i:4}: Cost {J_history[-1]:0.2e} \",\n",
    "                  f\"dj_dw: {dj_dw: 0.3e}, dj_db: {dj_db: 0.3e}  \",\n",
    "                  f\"w: {w: 0.3e}, b:{b: 0.5e}\")\n",
    " \n",
    "    return w, b, J_history, p_history "
   ]
  },
  {
   "cell_type": "markdown",
   "id": "549a9103",
   "metadata": {},
   "source": [
    "7. Plot the cost and parameters versus iteration of gradient descent."
   ]
  },
  {
   "cell_type": "code",
   "execution_count": null,
   "id": "f1fe479a",
   "metadata": {},
   "outputs": [],
   "source": []
  }
 ],
 "metadata": {
  "kernelspec": {
   "display_name": "Python 3 (ipykernel)",
   "language": "python",
   "name": "python3"
  },
  "language_info": {
   "codemirror_mode": {
    "name": "ipython",
    "version": 3
   },
   "file_extension": ".py",
   "mimetype": "text/x-python",
   "name": "python",
   "nbconvert_exporter": "python",
   "pygments_lexer": "ipython3",
   "version": "3.9.6"
  }
 },
 "nbformat": 4,
 "nbformat_minor": 5
}
